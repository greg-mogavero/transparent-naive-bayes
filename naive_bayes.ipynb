{
 "cells": [
  {
   "cell_type": "markdown",
   "metadata": {
    "collapsed": true
   },
   "source": [
    "# Transparent Bayes\n",
    "\n",
    "### Overview\n",
    "\n",
    "This project is meant to serve as an educational tool for me and anyone else who wants to understand how Naive Bayes classifiers are implemented in code. My goal is to clearly document each step of the algorithm, including the underlying math as much as possible. Furthermore, I will try to keep the code as simple and easy-to-understand as possible, sacrificing performance and robustness if necessary.\n",
    "\n",
    "### Dataset\n",
    "\n",
    "The dataset I will be using is the [Credit Approval Dataset](http://archive.ics.uci.edu/ml/datasets/Credit+Approval) from the UCI Machine Learning Repository. It has a good mix of continuous and categorical attributes, and a binary label.\n",
    "\n",
    "### Data Exploration\n",
    "\n",
    "Now I will load the data into a pandas dataframe and view its statistics."
   ]
  },
  {
   "cell_type": "code",
   "execution_count": 10,
   "metadata": {},
   "outputs": [
    {
     "name": "stdout",
     "output_type": "stream",
     "text": [
      "  A1         A2     A3 A4 A5 A6 A7    A8 A9 A10  A11 A12 A13    A14    A15  \\\n",
      "0  b  30.830000  0.000  u  g  w  v  1.25  t   t  1.0   f   g  202.0    0.0   \n",
      "1  a  58.669998  4.460  u  g  q  h  3.04  t   t  6.0   f   g   43.0  560.0   \n",
      "2  a  24.500000  0.500  u  g  q  h  1.50  t   f  0.0   f   g  280.0  824.0   \n",
      "3  b  27.830000  1.540  u  g  w  v  3.75  t   t  5.0   t   g  100.0    3.0   \n",
      "4  b  20.170000  5.625  u  g  w  v  1.71  t   f  0.0   f   s  120.0    0.0   \n",
      "\n",
      "  approve?  \n",
      "0        +  \n",
      "1        +  \n",
      "2        +  \n",
      "3        +  \n",
      "4        +  \n",
      "               A2          A3          A8         A11          A14  \\\n",
      "count  678.000000  690.000000  690.000000  690.000000   677.000000   \n",
      "mean    31.568169    4.758725    2.223407    2.400000   184.014771   \n",
      "std     11.957860    4.978165    3.346511    4.862927   173.806808   \n",
      "min     13.750000    0.000000    0.000000    0.000000     0.000000   \n",
      "25%     22.602500    1.000000    0.165000    0.000000    75.000000   \n",
      "50%     28.460000    2.750000    1.000000    0.000000   160.000000   \n",
      "75%     38.230000    7.207500    2.625000    3.000000   276.000000   \n",
      "max     80.250000   28.000000   28.500000   67.000000  2000.000000   \n",
      "\n",
      "                 A15  \n",
      "count     690.000000  \n",
      "mean     1017.385498  \n",
      "std      5210.080566  \n",
      "min         0.000000  \n",
      "25%         0.000000  \n",
      "50%         5.000000  \n",
      "75%       395.500000  \n",
      "max    100000.000000  \n"
     ]
    }
   ],
   "source": [
    "import pandas as pd\n",
    "import numpy as np\n",
    "\n",
    "names = []\n",
    "for i in range(1, 16):\n",
    "    names.append(\"A\" + str(i))\n",
    "names.append(\"approve?\")\n",
    "\n",
    "dtype = {'A1': str,\n",
    "         'A2': np.float32,\n",
    "         'A3': np.float32,\n",
    "         'A4': str,\n",
    "         'A5': str,\n",
    "         'A6': str,\n",
    "         'A7': str,\n",
    "         'A8': np.float32,\n",
    "         'A9': str,\n",
    "         'A10': str,\n",
    "         'A11': np.float32,\n",
    "         'A12': str,\n",
    "         'A13': str,\n",
    "         'A14': np.float32,\n",
    "         'A15': np.float32,\n",
    "         'approve?': str}\n",
    "\n",
    "data = pd.read_csv(\"./data.csv\", header=None, names=names, dtype=dtype, na_values=['?'])\n",
    "\n",
    "print(data.head())\n",
    "print(data.describe())"
   ]
  },
  {
   "cell_type": "code",
   "execution_count": null,
   "metadata": {
    "collapsed": true
   },
   "outputs": [],
   "source": []
  }
 ],
 "metadata": {
  "kernelspec": {
   "display_name": "Python 3",
   "language": "python",
   "name": "python3"
  },
  "language_info": {
   "codemirror_mode": {
    "name": "ipython",
    "version": 3
   },
   "file_extension": ".py",
   "mimetype": "text/x-python",
   "name": "python",
   "nbconvert_exporter": "python",
   "pygments_lexer": "ipython3",
   "version": "3.6.1"
  }
 },
 "nbformat": 4,
 "nbformat_minor": 1
}
